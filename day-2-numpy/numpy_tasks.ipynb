{
 "cells": [
  {
   "cell_type": "markdown",
   "source": [
    "# Numpy tasks"
   ],
   "metadata": {}
  },
  {
   "cell_type": "markdown",
   "source": [
    "## General"
   ],
   "metadata": {}
  },
  {
   "cell_type": "code",
   "execution_count": 1,
   "source": [
    "import numpy as np"
   ],
   "outputs": [],
   "metadata": {}
  },
  {
   "cell_type": "markdown",
   "source": [
    "### Task Version number\n",
    "> a) extract numpy version number"
   ],
   "metadata": {}
  },
  {
   "cell_type": "code",
   "execution_count": 2,
   "source": [
    "np.__version__"
   ],
   "outputs": [
    {
     "output_type": "execute_result",
     "data": {
      "text/plain": "'1.19.1'"
     },
     "metadata": {},
     "execution_count": 2
    }
   ],
   "metadata": {}
  },
  {
   "cell_type": "markdown",
   "source": [
    "## Arrays\n",
    "\n",
    "---\n",
    "\n"
   ],
   "metadata": {}
  },
  {
   "cell_type": "markdown",
   "source": [
    "### Task: Speed comparison, numpy is faster\n",
    "\n",
    "> a) compute the sum of squared values from 10-10 000 using a list comprehension. This corresponds to:\n",
    "$$\n",
    "\\sum_{i=10}^{10 000}i^2\n",
    "$$\n",
    "\n",
    "> b) compute the same using numpy\n",
    "\n",
    "> c) perform a speed comparison between the two approaches  *Hint* you can measure time using:\n",
    "```\n",
    "import time\n",
    "start = time.time()\n",
    "# your code\n",
    "time_taken = time.time() - start\n",
    "```"
   ],
   "metadata": {}
  },
  {
   "cell_type": "code",
   "execution_count": 28,
   "source": [
    "# a, sum of squared numbers in the range 10:10000 + c\n",
    "start = time.time()\n",
    "squared_values = sum([number**2 for number in range(10,1000001)])\n",
    "print(squared_values)\n",
    "time_taken = time.time() - start\n",
    "print(time_taken)"
   ],
   "outputs": [
    {
     "output_type": "stream",
     "name": "stdout",
     "text": "333333833333499715\n0.24535059928894043\n"
    }
   ],
   "metadata": {}
  },
  {
   "cell_type": "code",
   "execution_count": 29,
   "metadata": {},
   "outputs": [
    {
     "output_type": "stream",
     "name": "stdout",
     "text": "333333833333499715\n0.17187714576721191\n"
    }
   ],
   "source": [
    "# b + c\n",
    "start = time.time()\n",
    "squared_val = sum(np.arange(10,1000001)**2)\n",
    "print(squared_val)\n",
    "time_taken = time.time() - start\n",
    "print(time_taken)"
   ]
  },
  {
   "cell_type": "code",
   "execution_count": null,
   "metadata": {},
   "outputs": [],
   "source": []
  },
  {
   "cell_type": "markdown",
   "source": [
    "### Task: Speed comparison, no lists are faster\n",
    "\n",
    "1) create a for loop where you append numbers to a list and a numpy array (let's say 1 000 000). Show that list are faster than numpy arrays in this situation.\n",
    "\n",
    "This is a design decision which makes python cheap to append to (read more [here](https://stackoverflow.com/questions/5932328/internals-of-python-list-access-and-resizing-runtimes)).\n",
    "\n",
    "**Bonus**: You can make numpy noticably faster by preallocating memory. E.g. by creating an array of zeros and assigning the values instead of appending them.\n"
   ],
   "metadata": {}
  },
  {
   "cell_type": "code",
   "execution_count": 40,
   "source": [
    "#list\n",
    "append_list = []\n",
    "\n",
    "start = time.time()\n",
    "for num in range(0,1000001):\n",
    "    append_list.append(num)\n",
    "time_taken = time.time() - start\n",
    "print(time_taken)\n",
    "\n",
    "#array\n",
    "append_array = np.array([])\n",
    "\n",
    "start = time.time()\n",
    "for num in np.arange(0,1000001):\n",
    "    np.append(append_array, num)\n",
    "time_taken = time.time() - start\n",
    "print(time_taken) #slooow"
   ],
   "outputs": [
    {
     "output_type": "stream",
     "name": "stdout",
     "text": "0.09058666229248047\n4.458084344863892\n"
    }
   ],
   "metadata": {
    "tags": [
     "outputPrepend"
    ]
   }
  },
  {
   "cell_type": "code",
   "execution_count": null,
   "metadata": {},
   "outputs": [],
   "source": []
  },
  {
   "cell_type": "markdown",
   "source": [
    "## Creating and combining arrays\n",
    "\n",
    "---"
   ],
   "metadata": {}
  },
  {
   "cell_type": "markdown",
   "source": [
    "### Task: Combining arrays\n",
    "\n",
    "stack  two  numpy arrays vertically.\n",
    "\n",
    "**Example:**\n",
    "\n",
    "```python\n",
    "a = np.arange(10).reshape(2,-1)\n",
    "b = np.repeat(1, 10).reshape(2,-1)\n",
    "```\n",
    "\n",
    "Output:\n",
    "```\n",
    "#> array([[0, 1, 2, 3, 4],\n",
    "#>        [5, 6, 7, 8, 9],\n",
    "#>        [1, 1, 1, 1, 1],\n",
    "#>        [1, 1, 1, 1, 1]])\n",
    "```"
   ],
   "metadata": {}
  },
  {
   "cell_type": "code",
   "execution_count": 59,
   "source": [
    "a = np.arange(9).reshape(3,-1)\n",
    "print(a)\n",
    "\n",
    "b = np.repeat(12, 9).reshape(3,-1)\n",
    "print(b)\n",
    "\n",
    "c = np.stack([a, b])\n",
    "print(c)"
   ],
   "outputs": [
    {
     "output_type": "stream",
     "name": "stdout",
     "text": "[[0 1 2]\n [3 4 5]\n [6 7 8]]\n[[12 12 12]\n [12 12 12]\n [12 12 12]]\n[[[ 0  1  2]\n  [ 3  4  5]\n  [ 6  7  8]]\n\n [[12 12 12]\n  [12 12 12]\n  [12 12 12]]]\n"
    }
   ],
   "metadata": {}
  },
  {
   "cell_type": "markdown",
   "source": [
    "## Indexing arrays\n",
    "\n",
    "---"
   ],
   "metadata": {}
  },
  {
   "cell_type": "markdown",
   "source": [
    "### Task: Extract the middle\n",
    "> extract the middle row in an 1D array. If there is an even amount of arrays extract the two middle rows.\n",
    "\n",
    "**Example:**\n",
    "```\n",
    "d = np.array([1, 2, 3])\n",
    "print(get_middle(d))\n",
    "print(get_middle(np.arange(4)))\n",
    "```\n",
    "\n",
    "Output\n",
    "```\n",
    "2\n",
    "[1 2]\n",
    "```\n",
    "\n"
   ],
   "metadata": {}
  },
  {
   "cell_type": "code",
   "execution_count": 75,
   "metadata": {},
   "outputs": [],
   "source": [
    "# creating a function to get the middle row(s)\n",
    "d = np.array([1, 2, 3])\n",
    "\n",
    "def get_middle(array):\n",
    "    if len(array) % 2 != 0: #uneven\n",
    "        middle = int(len(array) / 2)\n",
    "        middle_value = array[middle]\n",
    "    else: #even\n",
    "        middle1 = int(len(array) / 2) -1 #first middle element\n",
    "        middle2 = int(len(array) / 2) #second middle element\n",
    "        middle_value = array[[middle1,middle2]]\n",
    "    return middle_value"
   ]
  },
  {
   "cell_type": "code",
   "execution_count": 78,
   "metadata": {},
   "outputs": [
    {
     "output_type": "stream",
     "name": "stdout",
     "text": "[5 6]\n"
    }
   ],
   "source": [
    "a = np.array([1, 7, 5, 6, 9, 7])\n",
    "mid_a = get_middle(a)\n",
    "print(mid_a)"
   ]
  },
  {
   "cell_type": "markdown",
   "source": [
    "### Task: Word frequencies\n",
    "> a) Given one array (of strings) select all values in a corresponding  array that corresponds to the highest values in the initial array.\n",
    "\n",
    "**Example:** Most frequent words\n",
    "```\n",
    "words = np.array([\"a\", \"duck\", \"dog\", \"the\"])\n",
    "counts = np.array([30, 2, 4, 110])\n",
    "print(f(words, counts))\n",
    "```\n",
    "\n",
    "Output\n",
    "```\n",
    "\"the\"\n",
    "```\n",
    "\n",
    "> bonus: generalize it to the n highest values"
   ],
   "metadata": {}
  },
  {
   "cell_type": "code",
   "execution_count": 88,
   "source": [
    "words = np.array([\"a\", \"duck\", \"dog\", \"the\", \"horse\"])\n",
    "counts = np.array([30, 2, 4, 110, 210])\n",
    "\n",
    "#np.argmax\n",
    "\n",
    "def f(words, counts):\n",
    "    max_count_idx = np.argmax(counts)\n",
    "\n",
    "    return words[max_count_idx]\n",
    "\n",
    "print(f(words, counts))"
   ],
   "outputs": [
    {
     "output_type": "stream",
     "name": "stdout",
     "text": "horse\n"
    }
   ],
   "metadata": {}
  },
  {
   "cell_type": "markdown",
   "source": [
    "## Formula to Code\n",
    "\n",
    "---"
   ],
   "metadata": {}
  },
  {
   "cell_type": "markdown",
   "source": [
    "### Task: The Euclidian Norm\n",
    "> implement the euclidian ($L^2$) norm defined as: \n",
    "\n",
    "$$||x||_2 = \\sqrt{x^2_1 + x^2_2 + ... x^2_n}$$\n",
    "\n",
    "Check that it it gives the same result as `np.linalg.norm`"
   ],
   "metadata": {}
  },
  {
   "cell_type": "code",
   "execution_count": 12,
   "source": [
    "def euclidean(x):\n",
    "    return np.sqrt(sum(x**2))\n",
    "\n",
    "euclidean(np.array([1, 2, 3]))"
   ],
   "outputs": [
    {
     "output_type": "execute_result",
     "data": {
      "text/plain": "3.7416573867739413"
     },
     "metadata": {},
     "execution_count": 12
    }
   ],
   "metadata": {}
  },
  {
   "cell_type": "code",
   "execution_count": 11,
   "metadata": {},
   "outputs": [
    {
     "output_type": "execute_result",
     "data": {
      "text/plain": "3.7416573867739413"
     },
     "metadata": {},
     "execution_count": 11
    }
   ],
   "source": [
    "np.linalg.norm(np.array([1, 2, 3]))"
   ]
  },
  {
   "cell_type": "markdown",
   "source": [
    "### Task: The sigmoid function\n",
    "The sigmoid (or the logistic) function is a function which is normalized between 0 and 1. It is defined as:\n",
    "$$\n",
    "s(x) = \\frac{1}{1+e^{-x}}\n",
    "$$\n",
    "\n",
    "> Implement the sigmoid function\n",
    "\n",
    "Example:\n",
    "```\n",
    "print(s(0))\n",
    "print(s(2))\n",
    "print(s(100))\n",
    "```\n",
    "\n",
    "Output:\n",
    "```\n",
    "0.5\n",
    "0.88079...\n",
    "1.0\n",
    "```\n",
    "\n",
    "> **Bonus:** plot the function"
   ],
   "metadata": {}
  },
  {
   "cell_type": "code",
   "execution_count": 115,
   "source": [
    "def s(x:np.ndarray) -> np.ndarray:\n",
    "    s_x = 1 / (1 + np.exp(-x))\n",
    "    \n",
    "    return s_x\n",
    "\n",
    "print(s(0))\n",
    "print(s(2))\n",
    "print(s(100))\n",
    "s(np.array([0, 2, 100])) #alternatively put all three into one array"
   ],
   "outputs": [
    {
     "output_type": "stream",
     "name": "stdout",
     "text": "0.5\n0.8807970779778823\n1.0\n"
    },
    {
     "output_type": "execute_result",
     "data": {
      "text/plain": "array([0.5       , 0.88079708, 1.        ])"
     },
     "metadata": {},
     "execution_count": 115
    }
   ],
   "metadata": {}
  },
  {
   "cell_type": "code",
   "execution_count": 121,
   "metadata": {},
   "outputs": [
    {
     "output_type": "stream",
     "name": "stdout",
     "text": "(80,)\n[0.01798621 0.01984031 0.02188127 0.02412702 0.02659699 0.02931223\n 0.03229546 0.03557119 0.03916572 0.04310725 0.04742587 0.05215356\n 0.05732418 0.06297336 0.06913842 0.07585818 0.0831727  0.09112296\n 0.09975049 0.10909682 0.11920292 0.13010847 0.14185106 0.15446527\n 0.16798161 0.18242552 0.19781611 0.21416502 0.23147522 0.24973989\n 0.26894142 0.2890505  0.31002552 0.33181223 0.35434369 0.37754067\n 0.40131234 0.42555748 0.450166   0.47502081 0.5        0.52497919\n 0.549834   0.57444252 0.59868766 0.62245933 0.64565631 0.66818777\n 0.68997448 0.7109495  0.73105858 0.75026011 0.76852478 0.78583498\n 0.80218389 0.81757448 0.83201839 0.84553473 0.85814894 0.86989153\n 0.88079708 0.89090318 0.90024951 0.90887704 0.9168273  0.92414182\n 0.93086158 0.93702664 0.94267582 0.94784644 0.95257413 0.95689275\n 0.96083428 0.96442881 0.96770454 0.97068777 0.97340301 0.97587298\n 0.97811873 0.98015969]\n"
    }
   ],
   "source": [
    "# BONUS: Plotting the sigmoid function\n",
    "grid = np.arange(-4, 4, step = 0.1)\n",
    "print(grid.shape)\n",
    "\n",
    "y = s(grid)\n",
    "print(y)"
   ]
  },
  {
   "cell_type": "code",
   "execution_count": 127,
   "metadata": {},
   "outputs": [],
   "source": [
    "import matplotlib.pyplot as plt"
   ]
  },
  {
   "cell_type": "code",
   "execution_count": 132,
   "metadata": {},
   "outputs": [
    {
     "output_type": "display_data",
     "data": {
      "text/plain": "<Figure size 432x288 with 1 Axes>",
      "image/svg+xml": "<?xml version=\"1.0\" encoding=\"utf-8\" standalone=\"no\"?>\n<!DOCTYPE svg PUBLIC \"-//W3C//DTD SVG 1.1//EN\"\n  \"http://www.w3.org/Graphics/SVG/1.1/DTD/svg11.dtd\">\n<!-- Created with matplotlib (https://matplotlib.org/) -->\n<svg height=\"248.518125pt\" version=\"1.1\" viewBox=\"0 0 372.103125 248.518125\" width=\"372.103125pt\" xmlns=\"http://www.w3.org/2000/svg\" xmlns:xlink=\"http://www.w3.org/1999/xlink\">\n <metadata>\n  <rdf:RDF xmlns:cc=\"http://creativecommons.org/ns#\" xmlns:dc=\"http://purl.org/dc/elements/1.1/\" xmlns:rdf=\"http://www.w3.org/1999/02/22-rdf-syntax-ns#\">\n   <cc:Work>\n    <dc:type rdf:resource=\"http://purl.org/dc/dcmitype/StillImage\"/>\n    <dc:date>2021-09-02T13:23:57.943029</dc:date>\n    <dc:format>image/svg+xml</dc:format>\n    <dc:creator>\n     <cc:Agent>\n      <dc:title>Matplotlib v3.3.1, https://matplotlib.org/</dc:title>\n     </cc:Agent>\n    </dc:creator>\n   </cc:Work>\n  </rdf:RDF>\n </metadata>\n <defs>\n  <style type=\"text/css\">*{stroke-linecap:butt;stroke-linejoin:round;}</style>\n </defs>\n <g id=\"figure_1\">\n  <g id=\"patch_1\">\n   <path d=\"M 0 248.518125 \nL 372.103125 248.518125 \nL 372.103125 0 \nL 0 0 \nz\n\" style=\"fill:none;\"/>\n  </g>\n  <g id=\"axes_1\">\n   <g id=\"patch_2\">\n    <path d=\"M 30.103125 224.64 \nL 364.903125 224.64 \nL 364.903125 7.2 \nL 30.103125 7.2 \nz\n\" style=\"fill:#ffffff;\"/>\n   </g>\n   <g id=\"matplotlib.axis_1\">\n    <g id=\"xtick_1\">\n     <g id=\"line2d_1\">\n      <defs>\n       <path d=\"M 0 0 \nL 0 3.5 \n\" id=\"mc4b8f15e35\" style=\"stroke:#000000;stroke-width:0.8;\"/>\n      </defs>\n      <g>\n       <use style=\"stroke:#000000;stroke-width:0.8;\" x=\"45.321307\" xlink:href=\"#mc4b8f15e35\" y=\"224.64\"/>\n      </g>\n     </g>\n     <g id=\"text_1\">\n      <!-- −4 -->\n      <g transform=\"translate(37.950213 239.238438)scale(0.1 -0.1)\">\n       <defs>\n        <path d=\"M 10.59375 35.5 \nL 73.1875 35.5 \nL 73.1875 27.203125 \nL 10.59375 27.203125 \nz\n\" id=\"DejaVuSans-8722\"/>\n        <path d=\"M 37.796875 64.3125 \nL 12.890625 25.390625 \nL 37.796875 25.390625 \nz\nM 35.203125 72.90625 \nL 47.609375 72.90625 \nL 47.609375 25.390625 \nL 58.015625 25.390625 \nL 58.015625 17.1875 \nL 47.609375 17.1875 \nL 47.609375 0 \nL 37.796875 0 \nL 37.796875 17.1875 \nL 4.890625 17.1875 \nL 4.890625 26.703125 \nz\n\" id=\"DejaVuSans-52\"/>\n       </defs>\n       <use xlink:href=\"#DejaVuSans-8722\"/>\n       <use x=\"83.789062\" xlink:href=\"#DejaVuSans-52\"/>\n      </g>\n     </g>\n    </g>\n    <g id=\"xtick_2\">\n     <g id=\"line2d_2\">\n      <g>\n       <use style=\"stroke:#000000;stroke-width:0.8;\" x=\"83.848349\" xlink:href=\"#mc4b8f15e35\" y=\"224.64\"/>\n      </g>\n     </g>\n     <g id=\"text_2\">\n      <!-- −3 -->\n      <g transform=\"translate(76.477256 239.238438)scale(0.1 -0.1)\">\n       <defs>\n        <path d=\"M 40.578125 39.3125 \nQ 47.65625 37.796875 51.625 33 \nQ 55.609375 28.21875 55.609375 21.1875 \nQ 55.609375 10.40625 48.1875 4.484375 \nQ 40.765625 -1.421875 27.09375 -1.421875 \nQ 22.515625 -1.421875 17.65625 -0.515625 \nQ 12.796875 0.390625 7.625 2.203125 \nL 7.625 11.71875 \nQ 11.71875 9.328125 16.59375 8.109375 \nQ 21.484375 6.890625 26.8125 6.890625 \nQ 36.078125 6.890625 40.9375 10.546875 \nQ 45.796875 14.203125 45.796875 21.1875 \nQ 45.796875 27.640625 41.28125 31.265625 \nQ 36.765625 34.90625 28.71875 34.90625 \nL 20.21875 34.90625 \nL 20.21875 43.015625 \nL 29.109375 43.015625 \nQ 36.375 43.015625 40.234375 45.921875 \nQ 44.09375 48.828125 44.09375 54.296875 \nQ 44.09375 59.90625 40.109375 62.90625 \nQ 36.140625 65.921875 28.71875 65.921875 \nQ 24.65625 65.921875 20.015625 65.03125 \nQ 15.375 64.15625 9.8125 62.3125 \nL 9.8125 71.09375 \nQ 15.4375 72.65625 20.34375 73.4375 \nQ 25.25 74.21875 29.59375 74.21875 \nQ 40.828125 74.21875 47.359375 69.109375 \nQ 53.90625 64.015625 53.90625 55.328125 \nQ 53.90625 49.265625 50.4375 45.09375 \nQ 46.96875 40.921875 40.578125 39.3125 \nz\n\" id=\"DejaVuSans-51\"/>\n       </defs>\n       <use xlink:href=\"#DejaVuSans-8722\"/>\n       <use x=\"83.789062\" xlink:href=\"#DejaVuSans-51\"/>\n      </g>\n     </g>\n    </g>\n    <g id=\"xtick_3\">\n     <g id=\"line2d_3\">\n      <g>\n       <use style=\"stroke:#000000;stroke-width:0.8;\" x=\"122.375392\" xlink:href=\"#mc4b8f15e35\" y=\"224.64\"/>\n      </g>\n     </g>\n     <g id=\"text_3\">\n      <!-- −2 -->\n      <g transform=\"translate(115.004298 239.238438)scale(0.1 -0.1)\">\n       <defs>\n        <path d=\"M 19.1875 8.296875 \nL 53.609375 8.296875 \nL 53.609375 0 \nL 7.328125 0 \nL 7.328125 8.296875 \nQ 12.9375 14.109375 22.625 23.890625 \nQ 32.328125 33.6875 34.8125 36.53125 \nQ 39.546875 41.84375 41.421875 45.53125 \nQ 43.3125 49.21875 43.3125 52.78125 \nQ 43.3125 58.59375 39.234375 62.25 \nQ 35.15625 65.921875 28.609375 65.921875 \nQ 23.96875 65.921875 18.8125 64.3125 \nQ 13.671875 62.703125 7.8125 59.421875 \nL 7.8125 69.390625 \nQ 13.765625 71.78125 18.9375 73 \nQ 24.125 74.21875 28.421875 74.21875 \nQ 39.75 74.21875 46.484375 68.546875 \nQ 53.21875 62.890625 53.21875 53.421875 \nQ 53.21875 48.921875 51.53125 44.890625 \nQ 49.859375 40.875 45.40625 35.40625 \nQ 44.1875 33.984375 37.640625 27.21875 \nQ 31.109375 20.453125 19.1875 8.296875 \nz\n\" id=\"DejaVuSans-50\"/>\n       </defs>\n       <use xlink:href=\"#DejaVuSans-8722\"/>\n       <use x=\"83.789062\" xlink:href=\"#DejaVuSans-50\"/>\n      </g>\n     </g>\n    </g>\n    <g id=\"xtick_4\">\n     <g id=\"line2d_4\">\n      <g>\n       <use style=\"stroke:#000000;stroke-width:0.8;\" x=\"160.902435\" xlink:href=\"#mc4b8f15e35\" y=\"224.64\"/>\n      </g>\n     </g>\n     <g id=\"text_4\">\n      <!-- −1 -->\n      <g transform=\"translate(153.531341 239.238438)scale(0.1 -0.1)\">\n       <defs>\n        <path d=\"M 12.40625 8.296875 \nL 28.515625 8.296875 \nL 28.515625 63.921875 \nL 10.984375 60.40625 \nL 10.984375 69.390625 \nL 28.421875 72.90625 \nL 38.28125 72.90625 \nL 38.28125 8.296875 \nL 54.390625 8.296875 \nL 54.390625 0 \nL 12.40625 0 \nz\n\" id=\"DejaVuSans-49\"/>\n       </defs>\n       <use xlink:href=\"#DejaVuSans-8722\"/>\n       <use x=\"83.789062\" xlink:href=\"#DejaVuSans-49\"/>\n      </g>\n     </g>\n    </g>\n    <g id=\"xtick_5\">\n     <g id=\"line2d_5\">\n      <g>\n       <use style=\"stroke:#000000;stroke-width:0.8;\" x=\"199.429477\" xlink:href=\"#mc4b8f15e35\" y=\"224.64\"/>\n      </g>\n     </g>\n     <g id=\"text_5\">\n      <!-- 0 -->\n      <g transform=\"translate(196.248227 239.238438)scale(0.1 -0.1)\">\n       <defs>\n        <path d=\"M 31.78125 66.40625 \nQ 24.171875 66.40625 20.328125 58.90625 \nQ 16.5 51.421875 16.5 36.375 \nQ 16.5 21.390625 20.328125 13.890625 \nQ 24.171875 6.390625 31.78125 6.390625 \nQ 39.453125 6.390625 43.28125 13.890625 \nQ 47.125 21.390625 47.125 36.375 \nQ 47.125 51.421875 43.28125 58.90625 \nQ 39.453125 66.40625 31.78125 66.40625 \nz\nM 31.78125 74.21875 \nQ 44.046875 74.21875 50.515625 64.515625 \nQ 56.984375 54.828125 56.984375 36.375 \nQ 56.984375 17.96875 50.515625 8.265625 \nQ 44.046875 -1.421875 31.78125 -1.421875 \nQ 19.53125 -1.421875 13.0625 8.265625 \nQ 6.59375 17.96875 6.59375 36.375 \nQ 6.59375 54.828125 13.0625 64.515625 \nQ 19.53125 74.21875 31.78125 74.21875 \nz\n\" id=\"DejaVuSans-48\"/>\n       </defs>\n       <use xlink:href=\"#DejaVuSans-48\"/>\n      </g>\n     </g>\n    </g>\n    <g id=\"xtick_6\">\n     <g id=\"line2d_6\">\n      <g>\n       <use style=\"stroke:#000000;stroke-width:0.8;\" x=\"237.95652\" xlink:href=\"#mc4b8f15e35\" y=\"224.64\"/>\n      </g>\n     </g>\n     <g id=\"text_6\">\n      <!-- 1 -->\n      <g transform=\"translate(234.77527 239.238438)scale(0.1 -0.1)\">\n       <use xlink:href=\"#DejaVuSans-49\"/>\n      </g>\n     </g>\n    </g>\n    <g id=\"xtick_7\">\n     <g id=\"line2d_7\">\n      <g>\n       <use style=\"stroke:#000000;stroke-width:0.8;\" x=\"276.483562\" xlink:href=\"#mc4b8f15e35\" y=\"224.64\"/>\n      </g>\n     </g>\n     <g id=\"text_7\">\n      <!-- 2 -->\n      <g transform=\"translate(273.302312 239.238438)scale(0.1 -0.1)\">\n       <use xlink:href=\"#DejaVuSans-50\"/>\n      </g>\n     </g>\n    </g>\n    <g id=\"xtick_8\">\n     <g id=\"line2d_8\">\n      <g>\n       <use style=\"stroke:#000000;stroke-width:0.8;\" x=\"315.010605\" xlink:href=\"#mc4b8f15e35\" y=\"224.64\"/>\n      </g>\n     </g>\n     <g id=\"text_8\">\n      <!-- 3 -->\n      <g transform=\"translate(311.829355 239.238438)scale(0.1 -0.1)\">\n       <use xlink:href=\"#DejaVuSans-51\"/>\n      </g>\n     </g>\n    </g>\n    <g id=\"xtick_9\">\n     <g id=\"line2d_9\">\n      <g>\n       <use style=\"stroke:#000000;stroke-width:0.8;\" x=\"353.537647\" xlink:href=\"#mc4b8f15e35\" y=\"224.64\"/>\n      </g>\n     </g>\n     <g id=\"text_9\">\n      <!-- 4 -->\n      <g transform=\"translate(350.356397 239.238438)scale(0.1 -0.1)\">\n       <use xlink:href=\"#DejaVuSans-52\"/>\n      </g>\n     </g>\n    </g>\n   </g>\n   <g id=\"matplotlib.axis_2\">\n    <g id=\"ytick_1\">\n     <g id=\"line2d_10\">\n      <defs>\n       <path d=\"M 0 0 \nL -3.5 0 \n\" id=\"m04bd4a9ea1\" style=\"stroke:#000000;stroke-width:0.8;\"/>\n      </defs>\n      <g>\n       <use style=\"stroke:#000000;stroke-width:0.8;\" x=\"30.103125\" xlink:href=\"#m04bd4a9ea1\" y=\"218.451522\"/>\n      </g>\n     </g>\n     <g id=\"text_10\">\n      <!-- 0.0 -->\n      <g transform=\"translate(7.2 222.250741)scale(0.1 -0.1)\">\n       <defs>\n        <path d=\"M 10.6875 12.40625 \nL 21 12.40625 \nL 21 0 \nL 10.6875 0 \nz\n\" id=\"DejaVuSans-46\"/>\n       </defs>\n       <use xlink:href=\"#DejaVuSans-48\"/>\n       <use x=\"63.623047\" xlink:href=\"#DejaVuSans-46\"/>\n       <use x=\"95.410156\" xlink:href=\"#DejaVuSans-48\"/>\n      </g>\n     </g>\n    </g>\n    <g id=\"ytick_2\">\n     <g id=\"line2d_11\">\n      <g>\n       <use style=\"stroke:#000000;stroke-width:0.8;\" x=\"30.103125\" xlink:href=\"#m04bd4a9ea1\" y=\"177.362731\"/>\n      </g>\n     </g>\n     <g id=\"text_11\">\n      <!-- 0.2 -->\n      <g transform=\"translate(7.2 181.161949)scale(0.1 -0.1)\">\n       <use xlink:href=\"#DejaVuSans-48\"/>\n       <use x=\"63.623047\" xlink:href=\"#DejaVuSans-46\"/>\n       <use x=\"95.410156\" xlink:href=\"#DejaVuSans-50\"/>\n      </g>\n     </g>\n    </g>\n    <g id=\"ytick_3\">\n     <g id=\"line2d_12\">\n      <g>\n       <use style=\"stroke:#000000;stroke-width:0.8;\" x=\"30.103125\" xlink:href=\"#m04bd4a9ea1\" y=\"136.273939\"/>\n      </g>\n     </g>\n     <g id=\"text_12\">\n      <!-- 0.4 -->\n      <g transform=\"translate(7.2 140.073158)scale(0.1 -0.1)\">\n       <use xlink:href=\"#DejaVuSans-48\"/>\n       <use x=\"63.623047\" xlink:href=\"#DejaVuSans-46\"/>\n       <use x=\"95.410156\" xlink:href=\"#DejaVuSans-52\"/>\n      </g>\n     </g>\n    </g>\n    <g id=\"ytick_4\">\n     <g id=\"line2d_13\">\n      <g>\n       <use style=\"stroke:#000000;stroke-width:0.8;\" x=\"30.103125\" xlink:href=\"#m04bd4a9ea1\" y=\"95.185148\"/>\n      </g>\n     </g>\n     <g id=\"text_13\">\n      <!-- 0.6 -->\n      <g transform=\"translate(7.2 98.984367)scale(0.1 -0.1)\">\n       <defs>\n        <path d=\"M 33.015625 40.375 \nQ 26.375 40.375 22.484375 35.828125 \nQ 18.609375 31.296875 18.609375 23.390625 \nQ 18.609375 15.53125 22.484375 10.953125 \nQ 26.375 6.390625 33.015625 6.390625 \nQ 39.65625 6.390625 43.53125 10.953125 \nQ 47.40625 15.53125 47.40625 23.390625 \nQ 47.40625 31.296875 43.53125 35.828125 \nQ 39.65625 40.375 33.015625 40.375 \nz\nM 52.59375 71.296875 \nL 52.59375 62.3125 \nQ 48.875 64.0625 45.09375 64.984375 \nQ 41.3125 65.921875 37.59375 65.921875 \nQ 27.828125 65.921875 22.671875 59.328125 \nQ 17.53125 52.734375 16.796875 39.40625 \nQ 19.671875 43.65625 24.015625 45.921875 \nQ 28.375 48.1875 33.59375 48.1875 \nQ 44.578125 48.1875 50.953125 41.515625 \nQ 57.328125 34.859375 57.328125 23.390625 \nQ 57.328125 12.15625 50.6875 5.359375 \nQ 44.046875 -1.421875 33.015625 -1.421875 \nQ 20.359375 -1.421875 13.671875 8.265625 \nQ 6.984375 17.96875 6.984375 36.375 \nQ 6.984375 53.65625 15.1875 63.9375 \nQ 23.390625 74.21875 37.203125 74.21875 \nQ 40.921875 74.21875 44.703125 73.484375 \nQ 48.484375 72.75 52.59375 71.296875 \nz\n\" id=\"DejaVuSans-54\"/>\n       </defs>\n       <use xlink:href=\"#DejaVuSans-48\"/>\n       <use x=\"63.623047\" xlink:href=\"#DejaVuSans-46\"/>\n       <use x=\"95.410156\" xlink:href=\"#DejaVuSans-54\"/>\n      </g>\n     </g>\n    </g>\n    <g id=\"ytick_5\">\n     <g id=\"line2d_14\">\n      <g>\n       <use style=\"stroke:#000000;stroke-width:0.8;\" x=\"30.103125\" xlink:href=\"#m04bd4a9ea1\" y=\"54.096357\"/>\n      </g>\n     </g>\n     <g id=\"text_14\">\n      <!-- 0.8 -->\n      <g transform=\"translate(7.2 57.895575)scale(0.1 -0.1)\">\n       <defs>\n        <path d=\"M 31.78125 34.625 \nQ 24.75 34.625 20.71875 30.859375 \nQ 16.703125 27.09375 16.703125 20.515625 \nQ 16.703125 13.921875 20.71875 10.15625 \nQ 24.75 6.390625 31.78125 6.390625 \nQ 38.8125 6.390625 42.859375 10.171875 \nQ 46.921875 13.96875 46.921875 20.515625 \nQ 46.921875 27.09375 42.890625 30.859375 \nQ 38.875 34.625 31.78125 34.625 \nz\nM 21.921875 38.8125 \nQ 15.578125 40.375 12.03125 44.71875 \nQ 8.5 49.078125 8.5 55.328125 \nQ 8.5 64.0625 14.71875 69.140625 \nQ 20.953125 74.21875 31.78125 74.21875 \nQ 42.671875 74.21875 48.875 69.140625 \nQ 55.078125 64.0625 55.078125 55.328125 \nQ 55.078125 49.078125 51.53125 44.71875 \nQ 48 40.375 41.703125 38.8125 \nQ 48.828125 37.15625 52.796875 32.3125 \nQ 56.78125 27.484375 56.78125 20.515625 \nQ 56.78125 9.90625 50.3125 4.234375 \nQ 43.84375 -1.421875 31.78125 -1.421875 \nQ 19.734375 -1.421875 13.25 4.234375 \nQ 6.78125 9.90625 6.78125 20.515625 \nQ 6.78125 27.484375 10.78125 32.3125 \nQ 14.796875 37.15625 21.921875 38.8125 \nz\nM 18.3125 54.390625 \nQ 18.3125 48.734375 21.84375 45.5625 \nQ 25.390625 42.390625 31.78125 42.390625 \nQ 38.140625 42.390625 41.71875 45.5625 \nQ 45.3125 48.734375 45.3125 54.390625 \nQ 45.3125 60.0625 41.71875 63.234375 \nQ 38.140625 66.40625 31.78125 66.40625 \nQ 25.390625 66.40625 21.84375 63.234375 \nQ 18.3125 60.0625 18.3125 54.390625 \nz\n\" id=\"DejaVuSans-56\"/>\n       </defs>\n       <use xlink:href=\"#DejaVuSans-48\"/>\n       <use x=\"63.623047\" xlink:href=\"#DejaVuSans-46\"/>\n       <use x=\"95.410156\" xlink:href=\"#DejaVuSans-56\"/>\n      </g>\n     </g>\n    </g>\n    <g id=\"ytick_6\">\n     <g id=\"line2d_15\">\n      <g>\n       <use style=\"stroke:#000000;stroke-width:0.8;\" x=\"30.103125\" xlink:href=\"#m04bd4a9ea1\" y=\"13.007565\"/>\n      </g>\n     </g>\n     <g id=\"text_15\">\n      <!-- 1.0 -->\n      <g transform=\"translate(7.2 16.806784)scale(0.1 -0.1)\">\n       <use xlink:href=\"#DejaVuSans-49\"/>\n       <use x=\"63.623047\" xlink:href=\"#DejaVuSans-46\"/>\n       <use x=\"95.410156\" xlink:href=\"#DejaVuSans-48\"/>\n      </g>\n     </g>\n    </g>\n   </g>\n   <g id=\"line2d_16\">\n    <path clip-path=\"url(#p6624436713)\" d=\"M 45.321307 214.756364 \nL 49.174011 214.375451 \nL 53.026715 213.956147 \nL 56.87942 213.494771 \nL 60.732124 212.98733 \nL 64.584828 212.429501 \nL 68.437532 211.816614 \nL 72.290237 211.143636 \nL 76.142941 210.405161 \nL 79.995645 209.595397 \nL 83.848349 208.708163 \nL 87.701054 207.736887 \nL 91.553758 206.674616 \nL 95.406462 205.514026 \nL 99.259166 204.247451 \nL 103.111871 202.866917 \nL 106.964575 201.364194 \nL 110.817279 199.73086 \nL 114.669983 197.958387 \nL 118.522688 196.038239 \nL 122.375392 193.962002 \nL 126.228096 191.721522 \nL 130.0808 189.309078 \nL 133.933505 186.717567 \nL 137.786209 183.940714 \nL 141.638913 180.9733 \nL 145.491618 177.811397 \nL 149.344322 174.452613 \nL 153.197026 170.896338 \nL 157.04973 167.14397 \nL 160.902435 163.199132 \nL 164.755139 159.067844 \nL 168.607843 154.758653 \nL 172.460547 150.282705 \nL 176.313252 145.653751 \nL 180.165956 140.888073 \nL 184.01866 136.004327 \nL 187.871364 131.023309 \nL 191.724069 125.967637 \nL 195.576773 120.861367 \nL 199.429477 115.729544 \nL 203.282181 110.597721 \nL 207.134886 105.49145 \nL 210.98759 100.435778 \nL 214.840294 95.45476 \nL 218.692998 90.571014 \nL 222.545703 85.805336 \nL 226.398407 81.176382 \nL 230.251111 76.700435 \nL 234.103815 72.391243 \nL 237.95652 68.259955 \nL 241.809224 64.315117 \nL 245.661928 60.56275 \nL 249.514632 57.006474 \nL 253.367337 53.64769 \nL 257.220041 50.485787 \nL 261.072745 47.518373 \nL 264.92545 44.741521 \nL 268.778154 42.150009 \nL 272.630858 39.737565 \nL 276.483562 37.497085 \nL 280.336267 35.420848 \nL 284.188971 33.500701 \nL 288.041675 31.728227 \nL 291.894379 30.094893 \nL 295.747084 28.59217 \nL 299.599788 27.211636 \nL 303.452492 25.945061 \nL 307.305196 24.784471 \nL 311.157901 23.7222 \nL 315.010605 22.750924 \nL 318.863309 21.86369 \nL 322.716013 21.053927 \nL 326.568718 20.315451 \nL 330.421422 19.642473 \nL 334.274126 19.029586 \nL 338.12683 18.471757 \nL 341.979535 17.964316 \nL 345.832239 17.50294 \nL 349.684943 17.083636 \n\" style=\"fill:none;stroke:#1f77b4;stroke-linecap:square;stroke-width:1.5;\"/>\n   </g>\n   <g id=\"patch_3\">\n    <path d=\"M 30.103125 224.64 \nL 30.103125 7.2 \n\" style=\"fill:none;stroke:#000000;stroke-linecap:square;stroke-linejoin:miter;stroke-width:0.8;\"/>\n   </g>\n   <g id=\"patch_4\">\n    <path d=\"M 364.903125 224.64 \nL 364.903125 7.2 \n\" style=\"fill:none;stroke:#000000;stroke-linecap:square;stroke-linejoin:miter;stroke-width:0.8;\"/>\n   </g>\n   <g id=\"patch_5\">\n    <path d=\"M 30.103125 224.64 \nL 364.903125 224.64 \n\" style=\"fill:none;stroke:#000000;stroke-linecap:square;stroke-linejoin:miter;stroke-width:0.8;\"/>\n   </g>\n   <g id=\"patch_6\">\n    <path d=\"M 30.103125 7.2 \nL 364.903125 7.2 \n\" style=\"fill:none;stroke:#000000;stroke-linecap:square;stroke-linejoin:miter;stroke-width:0.8;\"/>\n   </g>\n  </g>\n </g>\n <defs>\n  <clipPath id=\"p6624436713\">\n   <rect height=\"217.44\" width=\"334.8\" x=\"30.103125\" y=\"7.2\"/>\n  </clipPath>\n </defs>\n</svg>\n",
      "image/png": "[encoded data removed]"
     },
     "metadata": {
      "needs_background": "light"
     }
    }
   ],
   "source": [
    "plt.plot(grid, y, \"-\") # alternativelt \"*\"\n",
    "plt.show()"
   ]
  },
  {
   "cell_type": "markdown",
   "source": [
    "### Task: Vector Distances\n",
    "> Implement the following distances:\n",
    "- Euclidian ($L^2$) distance\n",
    "- Cosine distance\n",
    "- the Hamming distance\n",
    "\n",
    "\n",
    "**The euclidian distance** is a distance measure which denoted the length between two vectors $a$ and $b$ as defined by:\n",
    "$$\n",
    "dist(a, b) = || a-b || \n",
    "$$\n",
    "\n",
    "You can check that it give the same result as `scipy.spatial.distance.euclidean`.\n",
    "\n",
    "**The cosine distance** is a distance measure based on the angle between to vectors, $a$ and $b$. It can be shown that it is equal to: \n",
    "\n",
    "$$\n",
    "dist(a, b) = 1 - cos(\\theta) =  1 - \\frac{a \\cdot b} {|| a || \\cdot || b ||}\n",
    "$$\n",
    "\n",
    "You can check that it give the same result as `scipy.spatial.distance.cosine`.\n",
    "\n",
    "\n",
    "**The Hamming distance** between 1-D arrays $u$ and $v$, is simply the proportion of disagreeing components in $u$ and $v$. \n",
    "\n",
    "**Example**:\n",
    "```python\n",
    "u = [2, 6, 5, 8, 1, 2, 4, 5, 2, 6]\n",
    "v = [0, 0, 5, 8, 1, 2, 4, 5, 2, 6]\n",
    "print(hamming(u, v))\n",
    "```\n",
    "\n",
    "Output:\n",
    "```\n",
    "0.2\n",
    "```\n",
    "\n",
    "You can check that it give the same result as `scipy.spatial.distance.hamming`.\n",
    "\n",
    "\n",
    "> **Bonus**: Cosine similarity is a similarity measure which is defined as $1 - cos\\_dist$. Why does this constitute a reasonable measure of similarity? *Hint* What is the potential range of values. Try out a few vectors and see.\n",
    "\n",
    "<br /> \n",
    "\n",
    "<details>\n",
    "  <summary>Answer</summary>\n",
    "\n",
    "  Cosine similarity is normalized. That means that if the vector are the same (ignore length/magnitude) the cosine similarity is 1 (i.e. they as similar as can be). So the closer it is to 1 the more similar the vectors are.\n",
    "</details>\n",
    "\n",
    "<br /> \n",
    "\n",
    "\n",
    "> **Bonus**: Why would you want to use cosine distance instead of the euclidian norm?\n",
    "\n",
    "<br /> \n",
    "\n",
    "<details>\n",
    "  <summary>Answer</summary>\n",
    "\n",
    "  Cosine distance, or cosine similarity, is typically used to denote the distance between two vectors ignoring magnitude. Actually it can be [shown](https://stats.stackexchange.com/questions/146221/is-cosine-similarity-identical-to-l2-normalized-euclidean-distance) that euclidian norm of a normalized vector is proportional to the cosine distance.\n",
    "</details>\n",
    "\n",
    "<br /> \n"
   ],
   "metadata": {}
  },
  {
   "cell_type": "code",
   "execution_count": null,
   "source": [],
   "outputs": [],
   "metadata": {}
  },
  {
   "cell_type": "markdown",
   "source": [
    "### Task: Shannon Enthropy\n",
    "\n",
    "Calculate the shannon entropy of the follow dice throws:\n",
    "```\n",
    "[1, 2, 3, 4, 5, 6]\n",
    "[1, 2, 1, 3, 1, 4]\n",
    "[6, 5, 5, 6, 5, 4]\n",
    "```\n",
    "Both given a standard dice probability $\\frac{1}{6}$ for each outcome and  weighted dice with the probabilites:\n",
    "\n",
    "`{1: 0.1, 2: 0.1, 3: 0.1, 4: 0.2, 5: 0.2, 6: 0.3}`\n",
    "\n",
    "Shannon entropy is defined as:\n",
    "\n",
    "$$\n",
    "entropy(x) := \\sum_{i=1}^n P(x_i) \\cdot log P(x_i)\n",
    "$$\n"
   ],
   "metadata": {}
  },
  {
   "cell_type": "code",
   "execution_count": 138,
   "source": [
    "# for task below\n",
    "def f_function(x, betas):\n",
    "    parabola = betas[0] + betas[1] * x + betas[2] * x**2\n",
    "\n",
    "    return parabola\n",
    "\n",
    "\n",
    "betas = 1, 1.4, 2\n",
    "x = np.arange(-10, 10, 0.01)\n",
    "f_function(x, betas)\n"
   ],
   "outputs": [
    {
     "output_type": "execute_result",
     "data": {
      "text/plain": "array([187.    , 186.6142, 186.2288, ..., 213.7598, 214.1728, 214.5862])"
     },
     "metadata": {},
     "execution_count": 138
    }
   ],
   "metadata": {}
  },
  {
   "cell_type": "code",
   "execution_count": 135,
   "metadata": {},
   "outputs": [
    {
     "output_type": "execute_result",
     "data": {
      "text/plain": "[<matplotlib.lines.Line2D at 0x7fe0a3fcb780>]"
     },
     "metadata": {},
     "execution_count": 135
    },
    {
     "output_type": "display_data",
     "data": {
      "text/plain": "<Figure size 432x288 with 1 Axes>",
      "image/svg+xml": "<?xml version=\"1.0\" encoding=\"utf-8\" standalone=\"no\"?>\n<!DOCTYPE svg PUBLIC \"-//W3C//DTD SVG 1.1//EN\"\n  \"http://www.w3.org/Graphics/SVG/1.1/DTD/svg11.dtd\">\n<!-- Created with matplotlib (https://matplotlib.org/) -->\n<svg height=\"248.518125pt\" version=\"1.1\" viewBox=\"0 0 375.2875 248.518125\" width=\"375.2875pt\" xmlns=\"http://www.w3.org/2000/svg\" xmlns:xlink=\"http://www.w3.org/1999/xlink\">\n <metadata>\n  <rdf:RDF xmlns:cc=\"http://creativecommons.org/ns#\" xmlns:dc=\"http://purl.org/dc/elements/1.1/\" xmlns:rdf=\"http://www.w3.org/1999/02/22-rdf-syntax-ns#\">\n   <cc:Work>\n    <dc:type rdf:resource=\"http://purl.org/dc/dcmitype/StillImage\"/>\n    <dc:date>2021-09-02T13:27:13.229599</dc:date>\n    <dc:format>image/svg+xml</dc:format>\n    <dc:creator>\n     <cc:Agent>\n      <dc:title>Matplotlib v3.3.1, https://matplotlib.org/</dc:title>\n     </cc:Agent>\n    </dc:creator>\n   </cc:Work>\n  </rdf:RDF>\n </metadata>\n <defs>\n  <style type=\"text/css\">*{stroke-linecap:butt;stroke-linejoin:round;}</style>\n </defs>\n <g id=\"figure_1\">\n  <g id=\"patch_1\">\n   <path d=\"M 0 248.518125 \nL 375.2875 248.518125 \nL 375.2875 0 \nL 0 0 \nz\n\" style=\"fill:none;\"/>\n  </g>\n  <g id=\"axes_1\">\n   <g id=\"patch_2\">\n    <path d=\"M 33.2875 224.64 \nL 368.0875 224.64 \nL 368.0875 7.2 \nL 33.2875 7.2 \nz\n\" style=\"fill:#ffffff;\"/>\n   </g>\n   <g id=\"matplotlib.axis_1\">\n    <g id=\"xtick_1\">\n     <g id=\"line2d_1\">\n      <defs>\n       <path d=\"M 0 0 \nL 0 3.5 \n\" id=\"m131e41d064\" style=\"stroke:#000000;stroke-width:0.8;\"/>\n      </defs>\n      <g>\n       <use style=\"stroke:#000000;stroke-width:0.8;\" x=\"48.505682\" xlink:href=\"#m131e41d064\" y=\"224.64\"/>\n      </g>\n     </g>\n     <g id=\"text_1\">\n      <!-- −10.0 -->\n      <g transform=\"translate(33.183026 239.238437)scale(0.1 -0.1)\">\n       <defs>\n        <path d=\"M 10.59375 35.5 \nL 73.1875 35.5 \nL 73.1875 27.203125 \nL 10.59375 27.203125 \nz\n\" id=\"DejaVuSans-8722\"/>\n        <path d=\"M 12.40625 8.296875 \nL 28.515625 8.296875 \nL 28.515625 63.921875 \nL 10.984375 60.40625 \nL 10.984375 69.390625 \nL 28.421875 72.90625 \nL 38.28125 72.90625 \nL 38.28125 8.296875 \nL 54.390625 8.296875 \nL 54.390625 0 \nL 12.40625 0 \nz\n\" id=\"DejaVuSans-49\"/>\n        <path d=\"M 31.78125 66.40625 \nQ 24.171875 66.40625 20.328125 58.90625 \nQ 16.5 51.421875 16.5 36.375 \nQ 16.5 21.390625 20.328125 13.890625 \nQ 24.171875 6.390625 31.78125 6.390625 \nQ 39.453125 6.390625 43.28125 13.890625 \nQ 47.125 21.390625 47.125 36.375 \nQ 47.125 51.421875 43.28125 58.90625 \nQ 39.453125 66.40625 31.78125 66.40625 \nz\nM 31.78125 74.21875 \nQ 44.046875 74.21875 50.515625 64.515625 \nQ 56.984375 54.828125 56.984375 36.375 \nQ 56.984375 17.96875 50.515625 8.265625 \nQ 44.046875 -1.421875 31.78125 -1.421875 \nQ 19.53125 -1.421875 13.0625 8.265625 \nQ 6.59375 17.96875 6.59375 36.375 \nQ 6.59375 54.828125 13.0625 64.515625 \nQ 19.53125 74.21875 31.78125 74.21875 \nz\n\" id=\"DejaVuSans-48\"/>\n        <path d=\"M 10.6875 12.40625 \nL 21 12.40625 \nL 21 0 \nL 10.6875 0 \nz\n\" id=\"DejaVuSans-46\"/>\n       </defs>\n       <use xlink:href=\"#DejaVuSans-8722\"/>\n       <use x=\"83.789062\" xlink:href=\"#DejaVuSans-49\"/>\n       <use x=\"147.412109\" xlink:href=\"#DejaVuSans-48\"/>\n       <use x=\"211.035156\" xlink:href=\"#DejaVuSans-46\"/>\n       <use x=\"242.822266\" xlink:href=\"#DejaVuSans-48\"/>\n      </g>\n     </g>\n    </g>\n    <g id=\"xtick_2\">\n     <g id=\"line2d_2\">\n      <g>\n       <use style=\"stroke:#000000;stroke-width:0.8;\" x=\"86.74232\" xlink:href=\"#m131e41d064\" y=\"224.64\"/>\n      </g>\n     </g>\n     <g id=\"text_2\">\n      <!-- −7.5 -->\n      <g transform=\"translate(74.600913 239.238437)scale(0.1 -0.1)\">\n       <defs>\n        <path d=\"M 8.203125 72.90625 \nL 55.078125 72.90625 \nL 55.078125 68.703125 \nL 28.609375 0 \nL 18.3125 0 \nL 43.21875 64.59375 \nL 8.203125 64.59375 \nz\n\" id=\"DejaVuSans-55\"/>\n        <path d=\"M 10.796875 72.90625 \nL 49.515625 72.90625 \nL 49.515625 64.59375 \nL 19.828125 64.59375 \nL 19.828125 46.734375 \nQ 21.96875 47.46875 24.109375 47.828125 \nQ 26.265625 48.1875 28.421875 48.1875 \nQ 40.625 48.1875 47.75 41.5 \nQ 54.890625 34.8125 54.890625 23.390625 \nQ 54.890625 11.625 47.5625 5.09375 \nQ 40.234375 -1.421875 26.90625 -1.421875 \nQ 22.3125 -1.421875 17.546875 -0.640625 \nQ 12.796875 0.140625 7.71875 1.703125 \nL 7.71875 11.625 \nQ 12.109375 9.234375 16.796875 8.0625 \nQ 21.484375 6.890625 26.703125 6.890625 \nQ 35.15625 6.890625 40.078125 11.328125 \nQ 45.015625 15.765625 45.015625 23.390625 \nQ 45.015625 31 40.078125 35.4375 \nQ 35.15625 39.890625 26.703125 39.890625 \nQ 22.75 39.890625 18.8125 39.015625 \nQ 14.890625 38.140625 10.796875 36.28125 \nz\n\" id=\"DejaVuSans-53\"/>\n       </defs>\n       <use xlink:href=\"#DejaVuSans-8722\"/>\n       <use x=\"83.789062\" xlink:href=\"#DejaVuSans-55\"/>\n       <use x=\"147.412109\" xlink:href=\"#DejaVuSans-46\"/>\n       <use x=\"179.199219\" xlink:href=\"#DejaVuSans-53\"/>\n      </g>\n     </g>\n    </g>\n    <g id=\"xtick_3\">\n     <g id=\"line2d_3\">\n      <g>\n       <use style=\"stroke:#000000;stroke-width:0.8;\" x=\"124.978957\" xlink:href=\"#m131e41d064\" y=\"224.64\"/>\n      </g>\n     </g>\n     <g id=\"text_3\">\n      <!-- −5.0 -->\n      <g transform=\"translate(112.837551 239.238437)scale(0.1 -0.1)\">\n       <use xlink:href=\"#DejaVuSans-8722\"/>\n       <use x=\"83.789062\" xlink:href=\"#DejaVuSans-53\"/>\n       <use x=\"147.412109\" xlink:href=\"#DejaVuSans-46\"/>\n       <use x=\"179.199219\" xlink:href=\"#DejaVuSans-48\"/>\n      </g>\n     </g>\n    </g>\n    <g id=\"xtick_4\">\n     <g id=\"line2d_4\">\n      <g>\n       <use style=\"stroke:#000000;stroke-width:0.8;\" x=\"163.215595\" xlink:href=\"#m131e41d064\" y=\"224.64\"/>\n      </g>\n     </g>\n     <g id=\"text_4\">\n      <!-- −2.5 -->\n      <g transform=\"translate(151.074189 239.238437)scale(0.1 -0.1)\">\n       <defs>\n        <path d=\"M 19.1875 8.296875 \nL 53.609375 8.296875 \nL 53.609375 0 \nL 7.328125 0 \nL 7.328125 8.296875 \nQ 12.9375 14.109375 22.625 23.890625 \nQ 32.328125 33.6875 34.8125 36.53125 \nQ 39.546875 41.84375 41.421875 45.53125 \nQ 43.3125 49.21875 43.3125 52.78125 \nQ 43.3125 58.59375 39.234375 62.25 \nQ 35.15625 65.921875 28.609375 65.921875 \nQ 23.96875 65.921875 18.8125 64.3125 \nQ 13.671875 62.703125 7.8125 59.421875 \nL 7.8125 69.390625 \nQ 13.765625 71.78125 18.9375 73 \nQ 24.125 74.21875 28.421875 74.21875 \nQ 39.75 74.21875 46.484375 68.546875 \nQ 53.21875 62.890625 53.21875 53.421875 \nQ 53.21875 48.921875 51.53125 44.890625 \nQ 49.859375 40.875 45.40625 35.40625 \nQ 44.1875 33.984375 37.640625 27.21875 \nQ 31.109375 20.453125 19.1875 8.296875 \nz\n\" id=\"DejaVuSans-50\"/>\n       </defs>\n       <use xlink:href=\"#DejaVuSans-8722\"/>\n       <use x=\"83.789062\" xlink:href=\"#DejaVuSans-50\"/>\n       <use x=\"147.412109\" xlink:href=\"#DejaVuSans-46\"/>\n       <use x=\"179.199219\" xlink:href=\"#DejaVuSans-53\"/>\n      </g>\n     </g>\n    </g>\n    <g id=\"xtick_5\">\n     <g id=\"line2d_5\">\n      <g>\n       <use style=\"stroke:#000000;stroke-width:0.8;\" x=\"201.452233\" xlink:href=\"#m131e41d064\" y=\"224.64\"/>\n      </g>\n     </g>\n     <g id=\"text_5\">\n      <!-- 0.0 -->\n      <g transform=\"translate(193.50067 239.238437)scale(0.1 -0.1)\">\n       <use xlink:href=\"#DejaVuSans-48\"/>\n       <use x=\"63.623047\" xlink:href=\"#DejaVuSans-46\"/>\n       <use x=\"95.410156\" xlink:href=\"#DejaVuSans-48\"/>\n      </g>\n     </g>\n    </g>\n    <g id=\"xtick_6\">\n     <g id=\"line2d_6\">\n      <g>\n       <use style=\"stroke:#000000;stroke-width:0.8;\" x=\"239.68887\" xlink:href=\"#m131e41d064\" y=\"224.64\"/>\n      </g>\n     </g>\n     <g id=\"text_6\">\n      <!-- 2.5 -->\n      <g transform=\"translate(231.737308 239.238437)scale(0.1 -0.1)\">\n       <use xlink:href=\"#DejaVuSans-50\"/>\n       <use x=\"63.623047\" xlink:href=\"#DejaVuSans-46\"/>\n       <use x=\"95.410156\" xlink:href=\"#DejaVuSans-53\"/>\n      </g>\n     </g>\n    </g>\n    <g id=\"xtick_7\">\n     <g id=\"line2d_7\">\n      <g>\n       <use style=\"stroke:#000000;stroke-width:0.8;\" x=\"277.925508\" xlink:href=\"#m131e41d064\" y=\"224.64\"/>\n      </g>\n     </g>\n     <g id=\"text_7\">\n      <!-- 5.0 -->\n      <g transform=\"translate(269.973946 239.238437)scale(0.1 -0.1)\">\n       <use xlink:href=\"#DejaVuSans-53\"/>\n       <use x=\"63.623047\" xlink:href=\"#DejaVuSans-46\"/>\n       <use x=\"95.410156\" xlink:href=\"#DejaVuSans-48\"/>\n      </g>\n     </g>\n    </g>\n    <g id=\"xtick_8\">\n     <g id=\"line2d_8\">\n      <g>\n       <use style=\"stroke:#000000;stroke-width:0.8;\" x=\"316.162146\" xlink:href=\"#m131e41d064\" y=\"224.64\"/>\n      </g>\n     </g>\n     <g id=\"text_8\">\n      <!-- 7.5 -->\n      <g transform=\"translate(308.210583 239.238437)scale(0.1 -0.1)\">\n       <use xlink:href=\"#DejaVuSans-55\"/>\n       <use x=\"63.623047\" xlink:href=\"#DejaVuSans-46\"/>\n       <use x=\"95.410156\" xlink:href=\"#DejaVuSans-53\"/>\n      </g>\n     </g>\n    </g>\n    <g id=\"xtick_9\">\n     <g id=\"line2d_9\">\n      <g>\n       <use style=\"stroke:#000000;stroke-width:0.8;\" x=\"354.398784\" xlink:href=\"#m131e41d064\" y=\"224.64\"/>\n      </g>\n     </g>\n     <g id=\"text_9\">\n      <!-- 10.0 -->\n      <g transform=\"translate(343.265971 239.238437)scale(0.1 -0.1)\">\n       <use xlink:href=\"#DejaVuSans-49\"/>\n       <use x=\"63.623047\" xlink:href=\"#DejaVuSans-48\"/>\n       <use x=\"127.246094\" xlink:href=\"#DejaVuSans-46\"/>\n       <use x=\"159.033203\" xlink:href=\"#DejaVuSans-48\"/>\n      </g>\n     </g>\n    </g>\n   </g>\n   <g id=\"matplotlib.axis_2\">\n    <g id=\"ytick_1\">\n     <g id=\"line2d_10\">\n      <defs>\n       <path d=\"M 0 0 \nL -3.5 0 \n\" id=\"m491d26723e\" style=\"stroke:#000000;stroke-width:0.8;\"/>\n      </defs>\n      <g>\n       <use style=\"stroke:#000000;stroke-width:0.8;\" x=\"33.2875\" xlink:href=\"#m491d26723e\" y=\"215.471342\"/>\n      </g>\n     </g>\n     <g id=\"text_10\">\n      <!-- 0 -->\n      <g transform=\"translate(19.925 219.270561)scale(0.1 -0.1)\">\n       <use xlink:href=\"#DejaVuSans-48\"/>\n      </g>\n     </g>\n    </g>\n    <g id=\"ytick_2\">\n     <g id=\"line2d_11\">\n      <g>\n       <use style=\"stroke:#000000;stroke-width:0.8;\" x=\"33.2875\" xlink:href=\"#m491d26723e\" y=\"168.433286\"/>\n      </g>\n     </g>\n     <g id=\"text_11\">\n      <!-- 50 -->\n      <g transform=\"translate(13.5625 172.232505)scale(0.1 -0.1)\">\n       <use xlink:href=\"#DejaVuSans-53\"/>\n       <use x=\"63.623047\" xlink:href=\"#DejaVuSans-48\"/>\n      </g>\n     </g>\n    </g>\n    <g id=\"ytick_3\">\n     <g id=\"line2d_12\">\n      <g>\n       <use style=\"stroke:#000000;stroke-width:0.8;\" x=\"33.2875\" xlink:href=\"#m491d26723e\" y=\"121.39523\"/>\n      </g>\n     </g>\n     <g id=\"text_12\">\n      <!-- 100 -->\n      <g transform=\"translate(7.2 125.194448)scale(0.1 -0.1)\">\n       <use xlink:href=\"#DejaVuSans-49\"/>\n       <use x=\"63.623047\" xlink:href=\"#DejaVuSans-48\"/>\n       <use x=\"127.246094\" xlink:href=\"#DejaVuSans-48\"/>\n      </g>\n     </g>\n    </g>\n    <g id=\"ytick_4\">\n     <g id=\"line2d_13\">\n      <g>\n       <use style=\"stroke:#000000;stroke-width:0.8;\" x=\"33.2875\" xlink:href=\"#m491d26723e\" y=\"74.357174\"/>\n      </g>\n     </g>\n     <g id=\"text_13\">\n      <!-- 150 -->\n      <g transform=\"translate(7.2 78.156392)scale(0.1 -0.1)\">\n       <use xlink:href=\"#DejaVuSans-49\"/>\n       <use x=\"63.623047\" xlink:href=\"#DejaVuSans-53\"/>\n       <use x=\"127.246094\" xlink:href=\"#DejaVuSans-48\"/>\n      </g>\n     </g>\n    </g>\n    <g id=\"ytick_5\">\n     <g id=\"line2d_14\">\n      <g>\n       <use style=\"stroke:#000000;stroke-width:0.8;\" x=\"33.2875\" xlink:href=\"#m491d26723e\" y=\"27.319117\"/>\n      </g>\n     </g>\n     <g id=\"text_14\">\n      <!-- 200 -->\n      <g transform=\"translate(7.2 31.118336)scale(0.1 -0.1)\">\n       <use xlink:href=\"#DejaVuSans-50\"/>\n       <use x=\"63.623047\" xlink:href=\"#DejaVuSans-48\"/>\n       <use x=\"127.246094\" xlink:href=\"#DejaVuSans-48\"/>\n      </g>\n     </g>\n    </g>\n   </g>\n   <g id=\"line2d_15\">\n    <path clip-path=\"url(#pf8f972d88b)\" d=\"M 48.505682 39.549012 \nL 54.623544 53.77332 \nL 60.741406 67.395541 \nL 66.859268 80.415675 \nL 72.97713 92.833722 \nL 79.094992 104.649682 \nL 85.212854 115.863554 \nL 91.330716 126.47534 \nL 95.919113 134.039059 \nL 100.507509 141.264105 \nL 105.095906 148.150476 \nL 109.684302 154.698174 \nL 114.272699 160.907197 \nL 118.861095 166.777546 \nL 123.449492 172.309222 \nL 128.037888 177.502223 \nL 132.626285 182.356551 \nL 137.214681 186.872204 \nL 141.803078 191.049183 \nL 146.391474 194.887489 \nL 150.979871 198.38712 \nL 155.568267 201.548077 \nL 160.156664 204.370361 \nL 164.745061 206.85397 \nL 169.333457 208.998906 \nL 173.921854 210.805167 \nL 178.51025 212.272754 \nL 183.098647 213.401668 \nL 187.687043 214.191907 \nL 190.745974 214.530581 \nL 193.804905 214.718733 \nL 196.863836 214.756364 \nL 199.922767 214.643472 \nL 202.981698 214.380059 \nL 206.040629 213.966124 \nL 209.09956 213.401668 \nL 213.687957 212.272754 \nL 218.276353 210.805167 \nL 222.86475 208.998906 \nL 227.453146 206.85397 \nL 232.041543 204.370361 \nL 236.629939 201.548077 \nL 241.218336 198.38712 \nL 245.806733 194.887489 \nL 250.395129 191.049183 \nL 254.983526 186.872204 \nL 259.571922 182.356551 \nL 264.160319 177.502223 \nL 268.748715 172.309222 \nL 273.337112 166.777546 \nL 277.925508 160.907197 \nL 282.513905 154.698174 \nL 287.102301 148.150476 \nL 291.690698 141.264105 \nL 296.279094 134.039059 \nL 300.867491 126.47534 \nL 305.455887 118.572946 \nL 311.573749 107.509596 \nL 317.691611 95.844158 \nL 323.809474 83.576633 \nL 329.927336 70.70702 \nL 336.045198 57.235321 \nL 342.16306 43.161535 \nL 348.280922 28.485661 \nL 352.869318 17.083636 \nL 352.869318 17.083636 \n\" style=\"fill:none;stroke:#1f77b4;stroke-linecap:square;stroke-width:1.5;\"/>\n   </g>\n   <g id=\"patch_3\">\n    <path d=\"M 33.2875 224.64 \nL 33.2875 7.2 \n\" style=\"fill:none;stroke:#000000;stroke-linecap:square;stroke-linejoin:miter;stroke-width:0.8;\"/>\n   </g>\n   <g id=\"patch_4\">\n    <path d=\"M 368.0875 224.64 \nL 368.0875 7.2 \n\" style=\"fill:none;stroke:#000000;stroke-linecap:square;stroke-linejoin:miter;stroke-width:0.8;\"/>\n   </g>\n   <g id=\"patch_5\">\n    <path d=\"M 33.2875 224.64 \nL 368.0875 224.64 \n\" style=\"fill:none;stroke:#000000;stroke-linecap:square;stroke-linejoin:miter;stroke-width:0.8;\"/>\n   </g>\n   <g id=\"patch_6\">\n    <path d=\"M 33.2875 7.2 \nL 368.0875 7.2 \n\" style=\"fill:none;stroke:#000000;stroke-linecap:square;stroke-linejoin:miter;stroke-width:0.8;\"/>\n   </g>\n  </g>\n </g>\n <defs>\n  <clipPath id=\"pf8f972d88b\">\n   <rect height=\"217.44\" width=\"334.8\" x=\"33.2875\" y=\"7.2\"/>\n  </clipPath>\n </defs>\n</svg>\n",
      "image/png": "[encoded data removed]"
     },
     "metadata": {
      "needs_background": "light"
     }
    }
   ],
   "source": [
    "plt.plot(x, f_function(x, betas))"
   ]
  },
  {
   "cell_type": "markdown",
   "source": [
    "### Task Finding the minimum of a parabola\n",
    "\n",
    "> 1) program a function that given a list of grid $x$ and a tuple with three entries ($b_1$, $b_2$, $b_3$) computes the parabola $b_1 + b_2x + b_3x^2$ \n",
    "\n",
    "```python\n",
    "x = np.arange(-10, 10, 0.1) #from -10 to 10 with increments of 0.1\n",
    "y = f(x, betas=(1, 1.4, 2)) \n",
    "```\n",
    "\n",
    "Which corresponds to $1 + 1.4x + 2x^2$.\n",
    "\n",
    "> 2) Program a function which calculates the gradient $f'(x_i)$ using derivatives.\n",
    "\n",
    "<br /> \n",
    "\n",
    "<details>\n",
    "  <summary>Help with derivatives</summary>\n",
    "\n",
    "---\n",
    "\n",
    "To solve the task it might be convenient to know:\n",
    "- The derivative of a constant is 0 \n",
    "\n",
    "$\\frac{d}{dx} c = 0$\n",
    "\n",
    "- The derivative of $c \\cdot x$ is $c$\n",
    "\n",
    "$\\frac{d}{dx} cx = c$\n",
    "\n",
    "- The derivative of $x^n$ is $n \\cdot x^{n-1}$\n",
    "\n",
    "$\\frac{d}{dx} x^n = n \\cdot x^{n-1}$\n",
    "\n",
    "---\n",
    "\n",
    "</details>\n",
    "\n",
    "\n",
    "For example:\n",
    "```python\n",
    "x = 2\n",
    "gradient = df(x, betas=(1, 1.4, 2))\n",
    "print(gradient)\n",
    "```\n",
    "\n",
    "Output:\n",
    "```\n",
    "9.4\n",
    "```\n",
    "> 3) Using 2) create a function which given an initial starting state i) computes gradient ii) minimizes the gradient by taking a small step (learning rate) toward the minimum iii) keep doing this `n` times\n",
    "\n",
    "Test that you function get similar results as you would get using provided `n` is high enough and a reasonable learning rate:\n",
    "```\n",
    "x[y.argmin()]  # which value of x corresponds to the minimum of y\n",
    "```\n",
    "\n",
    "**Bonus**: Instead of setting an `n` make it so that the functions stops when there only little "
   ],
   "metadata": {}
  },
  {
   "cell_type": "code",
   "execution_count": 140,
   "source": [
    "# output should be 9.4 not 5.4\n",
    "\n",
    "# TASK 2\n",
    "def f_2(x, betas):\n",
    "    derivative_result = 0 + 1.4 + 2 * 2 * x\n",
    "\n",
    "    return derivative_result\n",
    "\n",
    "x = 2\n",
    "f_2(x, betas)\n",
    "#on class\n",
    "#f(x) = 1 + 1.4x + 2x^2 = f'(x) = 0 + 1.4 + 2*2*x^(2-1) = f'(x) = 1.4 + 2*2x \n",
    "# positive gradient: make x more negative. Negative gradient: make x more positive\n",
    "# while or for loop until minimum is reached"
   ],
   "outputs": [
    {
     "output_type": "execute_result",
     "data": {
      "text/plain": "9.4"
     },
     "metadata": {},
     "execution_count": 140
    }
   ],
   "metadata": {}
  },
  {
   "cell_type": "code",
   "execution_count": null,
   "metadata": {},
   "outputs": [],
   "source": [
    "# TASK 3\n",
    "def find_min(x, betas, i):\n",
    "    \n",
    "    gradient = f_2(x, betas)\n",
    "\n",
    "    while gradient < 0:\n",
    "        i += 0.01\n",
    "    while gradient > 0:\n",
    "        i -= 0.01\n",
    "    if i == 0\n",
    "\n",
    "    #stop efter n times\n",
    "\n",
    "find_min(3.6)\n"
   ]
  },
  {
   "cell_type": "markdown",
   "source": [
    "### Task: Ordinary Least Squares\n",
    "\n",
    "Ordinary least squares (OLS) is a popular apprach for estimating a linear fit. Its matrix formulation is given by:\n",
    "\n",
    "$$\n",
    "(X^TX)\\hat{\\beta}=X^Ty\n",
    "\\Rightarrow\n",
    "\\hat{\\beta}=(X^TX)^{-1}X^Ty\n",
    "$$\n",
    "\n",
    "> Calculate the OLS of the given datapoints below.\n",
    "\n",
    "Feel free to check your results using `lm()` in R or using [`statsmodels`](https://www.statsmodels.org/stable/regression.html) or [`sklearn`](https://scikit-learn.org/stable/modules/generated/sklearn.linear_model.LinearRegression.html).\n",
    "\n",
    "**Bonus:** Plot the fit, does it make sense?\n",
    "\n",
    "**Bonus:** Using OLS fit a quadratic polynomial\n",
    "\n",
    "**Bonus:** lm() in python. R has a convenient function `lm` where you fit a function using a string formula and dataset. Create a similar function in python by parsing the string. This would look something like this: \n",
    "```\n",
    "data = {\"x\": np.array([0, 1, 2, 3]), \"y\": np.array([-1, 0.2, 0.9, 2.1]) }\n",
    "lm(formula=\"y~1 + x\", data=data)\n",
    "```"
   ],
   "metadata": {}
  },
  {
   "cell_type": "code",
   "execution_count": null,
   "source": [
    "# our x, y datapoints\n",
    "x = np.array([0, 1, 2, 3])\n",
    "y = np.array([-1, 0.2, 0.9, 2.1])\n",
    "\n",
    "# add a list of ones denoting intercept\n",
    "X = np.vstack([np.ones(len(x)), x]).T\n",
    "print(X)\n",
    "print(y)\n",
    "\n",
    "# solve using OLS:\n",
    "# ..."
   ],
   "outputs": [],
   "metadata": {}
  },
  {
   "cell_type": "markdown",
   "source": [
    "### Task: One-hot encoding\n",
    "\n",
    "One-hot encoding denote transforming a series of categories (e.g. \"Natural language processing\", \"Neuroscience\" ... or 1, 2, ...) into a matrix of shape (*, num_classes) that have zeros \n",
    "everywhere except where the index (of the last dimension) mathces the corresponding value of the input label, in which case it will be 1. For instance the vector `[0, 1, 0]` could denote \"Neuroscience\".\n",
    "\n",
    "**Example:**\n",
    "```\n",
    "np.random.seed(101) \n",
    "arr = np.random.randint(1,4, size=6)\n",
    "print(arr)\n",
    "print(one_hot(arr))\n",
    "\n",
    "```\n",
    "\n",
    "Output:\n",
    "```\n",
    "array([2, 3, 2, 2, 2, 1])\n",
    "array([[ 0.,  1.,  0.],\n",
    "       [ 0.,  0.,  1.],\n",
    "       [ 0.,  1.,  0.],\n",
    "       [ 0.,  1.,  0.],\n",
    "       [ 0.,  1.,  0.],\n",
    "       [ 1.,  0.,  0.]])\n",
    "```"
   ],
   "metadata": {}
  },
  {
   "cell_type": "code",
   "execution_count": null,
   "source": [],
   "outputs": [],
   "metadata": {}
  },
  {
   "cell_type": "markdown",
   "source": [
    "# Additional Task\n",
    "\n",
    "---\n"
   ],
   "metadata": {}
  },
  {
   "cell_type": "markdown",
   "source": [
    "## Creating Array"
   ],
   "metadata": {}
  },
  {
   "cell_type": "markdown",
   "source": [
    "### Task: Creating the bullseye\n",
    "\n",
    "> Create a function which for an input shape (Tuple[int, int]) return a matrix of the same shape where the border are ones, the middle is 8 and the remainder is zeros.\n",
    "\n",
    "**Example:**\n",
    "```\n",
    "print(bullseye((5, 5)))\n",
    "print(bullseye((5, 6)))\n",
    "```\n",
    "\n",
    "Output:\n",
    "```\n",
    "[[1. 1. 1. 1. 1.]\n",
    " [1. 0. 0. 0. 1.]\n",
    " [1. 0. 9. 0. 1.]\n",
    " [1. 0. 0. 0. 1.]\n",
    " [1. 1. 1. 1. 1.]]\n",
    "\n",
    "[[1. 1. 1. 1. 1. 1.]\n",
    " [1. 0. 0. 0. 0. 1.]\n",
    " [1. 0. 9. 9. 0. 1.]\n",
    " [1. 0. 0. 0. 0. 1.]\n",
    " [1. 1. 1. 1. 1. 1.]]\n",
    "\n",
    "```"
   ],
   "metadata": {}
  },
  {
   "cell_type": "code",
   "execution_count": null,
   "source": [],
   "outputs": [],
   "metadata": {}
  }
 ],
 "metadata": {
  "orig_nbformat": 4,
  "language_info": {
   "name": "python",
   "version": "3.7.3-final",
   "mimetype": "text/x-python",
   "codemirror_mode": {
    "name": "ipython",
    "version": 3
   },
   "pygments_lexer": "ipython3",
   "nbconvert_exporter": "python",
   "file_extension": ".py"
  },
  "kernelspec": {
   "name": "python37364bitc6b499da635c42cf813d49e66c2e3b8a",
   "display_name": "Python 3.7.3 64-bit"
  },
  "interpreter": {
   "hash": "2136a9c3637fd160483224d7922e48bf03b650be5dff26724a0c1f8d1279953b"
  }
 },
 "nbformat": 4,
 "nbformat_minor": 2
}